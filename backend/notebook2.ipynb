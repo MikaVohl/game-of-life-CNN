{
 "cells": [
  {
   "cell_type": "code",
   "execution_count": 1,
   "id": "b62b4ed3",
   "metadata": {},
   "outputs": [],
   "source": [
    "# locally, once:\n",
    "import torch, onnx\n",
    "import torch.nn as nn\n",
    "\n",
    "class Life_CNN(nn.Module):\n",
    "    def __init__(self):\n",
    "        super().__init__()\n",
    "        m = 24\n",
    "        self.net = nn.Sequential(\n",
    "            nn.Conv2d(1, 2*m, kernel_size=3, padding=1), nn.BatchNorm2d(2*m), nn.ReLU(),\n",
    "            nn.Conv2d(2*m,    m, kernel_size=1),         nn.BatchNorm2d(m),    nn.ReLU(),\n",
    "\n",
    "            nn.Conv2d(m,   2*m, kernel_size=3, padding=1), nn.BatchNorm2d(2*m), nn.ReLU(),\n",
    "            nn.Conv2d(2*m,    m, kernel_size=1),          nn.BatchNorm2d(m),    nn.ReLU(),\n",
    "\n",
    "            nn.Conv2d(m,   2*m, kernel_size=3, padding=1), nn.BatchNorm2d(2*m), nn.ReLU(),\n",
    "            nn.Conv2d(2*m,    m, kernel_size=1),          nn.BatchNorm2d(m),    nn.ReLU(),\n",
    "\n",
    "            nn.Conv2d(m,   2*m, kernel_size=3, padding=1), nn.BatchNorm2d(2*m), nn.ReLU(),\n",
    "            nn.Conv2d(2*m,    m, kernel_size=1),          nn.BatchNorm2d(m),    nn.ReLU(),\n",
    "\n",
    "            nn.Conv2d(m,   2*m, kernel_size=3, padding=1), nn.BatchNorm2d(2*m), nn.ReLU(),\n",
    "            nn.Conv2d(2*m,    m, kernel_size=1),          nn.BatchNorm2d(m),    nn.ReLU(),\n",
    "\n",
    "            nn.Conv2d(m, 1, kernel_size=1)\n",
    "        )\n",
    "\n",
    "    def forward(self, x):\n",
    "        return self.net(x)\n",
    "\n",
    "# model = Life_CNN()\n",
    "# model.load_state_dict(torch.load(\"model_weights_2.pth\", map_location=\"cpu\"))\n",
    "# model.eval()\n",
    "# # trace with a dummy input of the correct shape:\n",
    "# example = torch.randn(1,1,64,64)\n",
    "# traced = torch.jit.trace(model, example)\n",
    "# traced.save(\"model_script.pt\")\n",
    "\n",
    "model = Life_CNN().eval()\n",
    "model.load_state_dict(torch.load(\"model_weights_2.pth\", map_location=\"cpu\"))\n",
    "dummy = torch.randn(1,1,32,32)\n",
    "torch.onnx.export(model, dummy, \"life.onnx\",\n",
    "                  input_names=[\"x\"], output_names=[\"y\"],\n",
    "                  dynamic_axes={\"x\":{0:\"batch\"}, \"y\":{0:\"batch\"}})"
   ]
  },
  {
   "cell_type": "code",
   "execution_count": null,
   "id": "0a41f405",
   "metadata": {},
   "outputs": [],
   "source": []
  }
 ],
 "metadata": {
  "kernelspec": {
   "display_name": "Python 3",
   "language": "python",
   "name": "python3"
  },
  "language_info": {
   "codemirror_mode": {
    "name": "ipython",
    "version": 3
   },
   "file_extension": ".py",
   "mimetype": "text/x-python",
   "name": "python",
   "nbconvert_exporter": "python",
   "pygments_lexer": "ipython3",
   "version": "3.12.10"
  }
 },
 "nbformat": 4,
 "nbformat_minor": 5
}
